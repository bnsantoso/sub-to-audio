{
  "nbformat": 4,
  "nbformat_minor": 0,
  "metadata": {
    "colab": {
      "provenance": []
    },
    "kernelspec": {
      "name": "python3",
      "display_name": "Python 3"
    },
    "language_info": {
      "name": "python"
    }
  },
  "cells": [
    {
      "cell_type": "markdown",
      "source": [
        "# Subtitle to Audio\n",
        "\n",
        "Convert subtitle file into speech using coqui-ai TTS\n",
        "\n",
        "* github repo : [sub to audio by bnsantoso](https://https://github.com/bnsantoso/sub-to-audio)\n",
        "\n",
        "* [buy me coffee](https://ko-fi.com/bnsantoso)\n",
        "\n",
        "##Raw Input, make sure type your data type properly.\n",
        "\n",
        "\n"
      ],
      "metadata": {
        "id": "79Q0eH6SbpX9"
      }
    },
    {
      "cell_type": "code",
      "source": [
        "#@title install\n",
        "from_github = True # @param {type:\"boolean\"}\n",
        "if from_github:\n",
        "  !pip install git+https://github.com/bnsantoso/sub-to-audio -q\n",
        "else:\n",
        "  !pip install subtoaudio -q\n",
        "\n",
        "from subtoaudio import SubToAudio"
      ],
      "metadata": {
        "id": "Ykwn9DrudNbe",
        "cellView": "form"
      },
      "execution_count": null,
      "outputs": []
    },
    {
      "cell_type": "code",
      "source": [
        "#@title Initialize model\n",
        "\n",
        "model_name = None #@param {type:\"raw\"}\n",
        "fairseq_language = \"eng\" #@param {type:\"raw\"}\n",
        "model_path = None #@param {type:\"raw\"}\n",
        "config_path = None #@param {type:\"raw\"}\n",
        "gpu = False #@param {type:\"boolean\"}\n",
        "\n",
        "sub = SubToAudio(model_name = model_name,\n",
        "                model_path = model_path,\n",
        "                config_path = config_path,\n",
        "                progress_bar = True,\n",
        "                gpu = gpu ,\n",
        "                languages = fairseq_language)\n"
      ],
      "metadata": {
        "cellView": "form",
        "id": "K3yog0v__7Aw"
      },
      "execution_count": null,
      "outputs": []
    },
    {
      "cell_type": "code",
      "source": [
        "#@title Subtitle Data\n",
        "subtitle_path = \"subtitle.srt\" #@param {type:\"raw\"}\n",
        "subtitle = sub.subtitle(subtitle_path)"
      ],
      "metadata": {
        "cellView": "form",
        "id": "o3qJQ8QZmVLY"
      },
      "execution_count": 3,
      "outputs": []
    },
    {
      "cell_type": "code",
      "source": [
        "#@title Conver Subtitle to Audio\n",
        "\n",
        "speaker = None #@param {type:\"raw\"}\n",
        "languages = None #@param {type:\"raw\"}\n",
        "speaker_wav = None #@param {type:\"raw\"}\n",
        "tempo_mode = \"overflow\" #@param {type:\"raw\"}\n",
        "tempo_speed = None #@param {type:\"raw\"}\n",
        "tempo_limit = None #@param {type:\"raw\"}\n",
        "shift_mode = \"right\" #@param {type:\"raw\"}\n",
        "shift_limit = None #@param {type:\"raw\"}\n",
        "output_path = \"subtitle.wav\" #@param {type:\"raw\"}\n",
        "save_temp = True #@param {type:\"boolean\"}\n",
        "\n",
        "sub.convert_to_audio(sub_data=subtitle,\n",
        "                     speaker = speaker,\n",
        "                     languages = languages,\n",
        "                     speaker_wav = speaker_wav,\n",
        "                     tempo_mode = tempo_mode,\n",
        "                     tempo_speed = tempo_speed,\n",
        "                     tempo_limit = tempo_limit,\n",
        "                     shift_mode = shift_mode,\n",
        "                     shift_limit = shift_limit,\n",
        "                     output_path = output_path,\n",
        "                     save_temp = save_temp,\n",
        "                     )"
      ],
      "metadata": {
        "cellView": "form",
        "id": "7lklyOINmN4H"
      },
      "execution_count": null,
      "outputs": []
    }
  ]
}
