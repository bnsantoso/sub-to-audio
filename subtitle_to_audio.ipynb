{
  "nbformat": 4,
  "nbformat_minor": 0,
  "metadata": {
    "colab": {
      "provenance": []
    },
    "kernelspec": {
      "name": "python3",
      "display_name": "Python 3"
    },
    "language_info": {
      "name": "python"
    }
  },
  "cells": [
    {
      "cell_type": "markdown",
      "source": [
        "# Subtitle to Audio\n",
        "\n",
        "Convert subtitle file into speech using coqui-ai TTS\n",
        "\n",
        "* github repo : [sub to audio by bnsantoso](https://https://github.com/bnsantoso/sub-to-audio)\n",
        "\n",
        "* [buy me coffee](https://ko-fi.com/bnsantoso)\n",
        "\n",
        "\n"
      ],
      "metadata": {
        "id": "79Q0eH6SbpX9"
      }
    },
    {
      "cell_type": "code",
      "source": [
        "#instal\n",
        "\n",
        "!pip install subtoaudio -q\n",
        "\n",
        "from subtoaudio import SubToAudio"
      ],
      "metadata": {
        "id": "Ykwn9DrudNbe"
      },
      "execution_count": null,
      "outputs": []
    },
    {
      "cell_type": "code",
      "source": [
        "#@title Subtitle to Audio\n",
        "subtitle_path = \"subtitle.srt\" #@param {type:\"string\"}\n",
        "model_name = None #@param {type:\"raw\"}\n",
        "fairseq_language = None #@param {type:\"raw\"}\n",
        "model_path = None #@param {type:\"raw\"}\n",
        "config_path = None #@param {type:\"raw\"}\n",
        "gpu = False #@param {type:\"boolean\"}\n",
        "speaker = None #@param {type:\"raw\"}\n",
        "languages = None #@param {type:\"raw\"}\n",
        "speaker_wav = None #@param {type:\"raw\"}\n",
        "output_path = \"subtitle.wav\" #@param {type:\"raw\"}\n",
        "\n",
        "sub = SubToAudio(model_name = model_name,\n",
        "                model_path = model_path,\n",
        "                config_path = config_path,\n",
        "                progress_bar = True,\n",
        "                gpu = gpu ,\n",
        "                languages = fairseq_language)\n",
        "subtitle = sub.subtitle(subtitle_path)\n",
        "sub.convert_to_audio(data=subtitle,\n",
        "                     speaker =speaker,\n",
        "                     languages = languages,\n",
        "                     speaker_wav = speaker_wav,\n",
        "                     output_path = output_path,\n",
        "                     )\n",
        "\n"
      ],
      "metadata": {
        "cellView": "form",
        "id": "K3yog0v__7Aw"
      },
      "execution_count": null,
      "outputs": []
    }
  ]
}